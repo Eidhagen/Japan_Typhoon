{
 "cells": [
  {
   "cell_type": "code",
   "execution_count": null,
   "metadata": {},
   "outputs": [],
   "source": [
    "import numpy as np\n",
    "import pandas as pd"
   ]
  },
  {
   "cell_type": "code",
   "execution_count": null,
   "metadata": {},
   "outputs": [],
   "source": [
    "pd.options.display.max_rows = 1000"
   ]
  },
  {
   "cell_type": "code",
   "execution_count": null,
   "metadata": {},
   "outputs": [],
   "source": [
    "full_path = 'bst_all_2019_10_09_formatted.csv'\n",
    "all_info = pd.read_csv(full_path,sep=\";\",header=None, names=[\"Year\",\"id\",\"Name\",\n",
    "    \"Time of analysis\", \"Indicator\", \"Grade\", \"Latitude of the center\",\n",
    "    \"Longitude of the center\", \"Central pressure\", \"Maximum sustained wind speed\",\n",
    "    \"Direction and the longest radius of 50kt winds or greater\", \n",
    "    \"The shortest radius of 50kt winds or greater\",\n",
    "    \"Direction and the longest radius of 30kt winds or greater\",               \n",
    "    \"The shortest radius of 30kt winds or greater\", \"Indicator of landfall or passage\"],\n",
    "    #converters={'Time of analysis': lambda x: str(x)}\n",
    "    converters={3: lambda x: str(x)}\n",
    "                      )\n",
    "all_info.head(28000).tail(200)\n",
    "all_info.info()\n",
    "all_info.loc[48038]\n",
    "#all_info.loc[all_info[\"Maximum sustained wind speed\"]>113].tail(500)"
   ]
  },
  {
   "cell_type": "markdown",
   "metadata": {},
   "source": [
    "Grade  \n",
    "1 : Not used  \n",
    "2 : Tropical Depression (TD)  \n",
    "3 : Tropical Storm (TS)  \n",
    "4 : Severe Tropical Storm (STS)  \n",
    "5 : Typhoon (TY)  \n",
    "6 : Extra-tropical Cyclone (L)  \n",
    "7 : Just entering into the responsible area of Japan Meteorological Agency (JMA)  \n",
    "8 : Not used  \n",
    "9 : Tropical Cyclone of TS intensity or higher (NE: looks like this was only used before 1977)"
   ]
  },
  {
   "cell_type": "code",
   "execution_count": null,
   "metadata": {},
   "outputs": [],
   "source": [
    "import datetime\n",
    "def parse_date(_date):\n",
    "    #print(str(int(_date)))\n",
    "    formats = [\n",
    "             \"%y%m%d%H\"\n",
    "    ]\n",
    "    if isinstance(_date, datetime.date):\n",
    "        return _date\n",
    "    else:\n",
    "        for date_format in formats:\n",
    "            try:\n",
    "                return datetime.datetime.strptime(str(int(_date)), date_format).date()\n",
    "            except:\n",
    "                continue\n",
    "\n",
    "def parse_date_in_column(data, column_with_dates):\n",
    "    data = data.copy()\n",
    "    data[column_with_dates] = data[column_with_dates].apply(lambda x: parse_date(x))\n",
    "    return data\n",
    "\n",
    "all_info = parse_date_in_column(all_info, 'Time of analysis')\n",
    "all_info.head()\n",
    "all_info['Time of analysis'] = all_info['Time of analysis'].astype('datetime64')\n",
    "all_info['Time of analysis'].dt.month\n",
    "all_info.loc[48038]\n",
    "all_info.loc[48138]\n"
   ]
  },
  {
   "cell_type": "markdown",
   "metadata": {},
   "source": [
    "Number of landfalls by year since 1991 (there is no landfall indecator for the years before 1991)"
   ]
  },
  {
   "cell_type": "code",
   "execution_count": null,
   "metadata": {},
   "outputs": [],
   "source": [
    "after_1991_and_before_2019 = all_info.loc[(all_info[\"Year\"] >= 1991) & (all_info[\"Year\"] < 2019)]\n",
    "after_1991_and_before_2019.count()"
   ]
  },
  {
   "cell_type": "code",
   "execution_count": null,
   "metadata": {},
   "outputs": [],
   "source": [
    "filter_out_all_storms_befor_or_at_date = (1, 1) #(month, day) in each year"
   ]
  },
  {
   "cell_type": "code",
   "execution_count": null,
   "metadata": {},
   "outputs": [],
   "source": [
    "filter_out_all_storms_after_or_at_date = (1, 1) #(month, day) in each year"
   ]
  },
  {
   "cell_type": "code",
   "execution_count": null,
   "metadata": {},
   "outputs": [],
   "source": [
    "# Not working korrektly since Awk removes leading zeros and hence 00050418 wish shall be 2000-05-01:18 is truncated to 50418 which is \n",
    "# converted to 2050-04-01:00\n",
    "# and 00070300 -> 70300 can not be parsed since there are no day 0 in a mounth.\n",
    "after_1991_and_before_2019_tmp = after_1991_and_before_2019.loc[\n",
    "    (\n",
    "        (\n",
    "            (after_1991_and_before_2019['Time of analysis'].dt.month == filter_out_all_storms_befor_or_at_date[0]) &\n",
    "            (after_1991_and_before_2019['Time of analysis'].dt.day <= filter_out_all_storms_befor_or_at_date[1])\n",
    "        )\n",
    "        |\n",
    "        (\n",
    "            after_1991_and_before_2019['Time of analysis'].dt.month < filter_out_all_storms_befor_or_at_date[0]\n",
    "        )\n",
    "    )\n",
    "    |\n",
    "    (\n",
    "        (\n",
    "            (after_1991_and_before_2019['Time of analysis'].dt.month == filter_out_all_storms_after_or_at_date[0]) &\n",
    "            (after_1991_and_before_2019['Time of analysis'].dt.day >= filter_out_all_storms_after_or_at_date[1])\n",
    "        )\n",
    "        |\n",
    "        (\n",
    "            after_1991_and_before_2019['Time of analysis'].dt.month > filter_out_all_storms_after_or_at_date[0]\n",
    "        )\n",
    "    )\n",
    "]\n",
    "after_1991_and_before_2019_tmp.count()\n",
    "#newdf=pd.concat([after_1991_and_before_2019, after_1991_and_before_2019_tmp]).drop_duplicates(keep=False)\n",
    "#newdf\n",
    "#after_1991_and_before_2019_tmp.loc[48050]"
   ]
  },
  {
   "cell_type": "code",
   "execution_count": null,
   "metadata": {},
   "outputs": [],
   "source": [
    "sustaine_wind_speed_treshold = 73 # in kt "
   ]
  },
  {
   "cell_type": "code",
   "execution_count": null,
   "metadata": {},
   "outputs": [],
   "source": [
    "landfall = after_1991_and_before_2019.loc[after_1991_and_before_2019[\"Indicator of landfall or passage\"] =='#']\n",
    "landfall_with_windspeed_above_threshold = landfall.loc[landfall['Maximum sustained wind speed'] >= sustaine_wind_speed_treshold]\n",
    "number_of_landfall_by_year = landfall_with_windspeed_above_threshold.groupby(by=['Year']).id.nunique()\n",
    "print(f'Average number of landfalls with windspeed abowe {sustaine_wind_speed_treshold} kt:\\n', number_of_landfall_by_year.mean())\n",
    "landfall.tail()\n",
    "number_of_landfall_by_year.plot(figsize=(10,5))\n",
    "number_of_landfall_by_year\n",
    "#landfall_with_windspeed_above_threshold"
   ]
  },
  {
   "cell_type": "code",
   "execution_count": null,
   "metadata": {},
   "outputs": [],
   "source": [
    "#number_of_landfall_by_year.to_csv(f'/Users/nicke/Dropbox/Sirius Niklas/Python/Japan/no_landfalls_wind_speed_ge_{sustaine_wind_speed_treshold}.csv',header=False)"
   ]
  },
  {
   "cell_type": "markdown",
   "metadata": {},
   "source": [
    "Number of storms with a wind speed greater or equal to sustaine_wind_speed_threshold since 1991"
   ]
  },
  {
   "cell_type": "code",
   "execution_count": null,
   "metadata": {},
   "outputs": [],
   "source": [
    "with_windspeed_above_threshold = after_1991_and_before_2019.loc[\n",
    "    after_1991_and_before_2019['Maximum sustained wind speed'] >= sustaine_wind_speed_treshold]\n",
    "number_by_year = with_windspeed_above_threshold.groupby(by=['Year']).id.nunique()\n",
    "number_by_year.plot(figsize=(10,5))\n",
    "number_by_year"
   ]
  },
  {
   "cell_type": "code",
   "execution_count": null,
   "metadata": {},
   "outputs": [],
   "source": [
    "before_2019 = all_info.loc[all_info[\"Year\"] < 2019]\n",
    "with_windspeed_above_threshold_all_years_before_2019 = before_2019.loc[\n",
    "    before_2019['Maximum sustained wind speed'] >= sustaine_wind_speed_treshold]\n",
    "groped_by_year = with_windspeed_above_threshold_all_years_before_2019.groupby(by=['Year']).id.nunique()\n",
    "groped_by_year"
   ]
  },
  {
   "cell_type": "code",
   "execution_count": null,
   "metadata": {},
   "outputs": [],
   "source": [
    "groped_by_year.hist()"
   ]
  },
  {
   "cell_type": "code",
   "execution_count": null,
   "metadata": {},
   "outputs": [],
   "source": [
    "groped_by_year.plot(figsize=(10,5))"
   ]
  },
  {
   "cell_type": "code",
   "execution_count": null,
   "metadata": {},
   "outputs": [],
   "source": []
  },
  {
   "cell_type": "code",
   "execution_count": null,
   "metadata": {},
   "outputs": [],
   "source": []
  }
 ],
 "metadata": {
  "kernelspec": {
   "display_name": "Python 3",
   "language": "python",
   "name": "python3"
  },
  "language_info": {
   "codemirror_mode": {
    "name": "ipython",
    "version": 3
   },
   "file_extension": ".py",
   "mimetype": "text/x-python",
   "name": "python",
   "nbconvert_exporter": "python",
   "pygments_lexer": "ipython3",
   "version": "3.7.2"
  }
 },
 "nbformat": 4,
 "nbformat_minor": 4
}
