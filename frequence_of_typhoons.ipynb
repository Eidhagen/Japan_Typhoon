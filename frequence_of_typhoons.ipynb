{
 "cells": [
  {
   "cell_type": "code",
   "execution_count": null,
   "metadata": {},
   "outputs": [],
   "source": [
    "import numpy as np\n",
    "import pandas as pd"
   ]
  },
  {
   "cell_type": "code",
   "execution_count": null,
   "metadata": {},
   "outputs": [],
   "source": [
    "pd.options.display.max_rows = 1000"
   ]
  },
  {
   "cell_type": "code",
   "execution_count": null,
   "metadata": {},
   "outputs": [],
   "source": [
    "full_path = 'bst_all_2019_10_09_formatted.csv'\n",
    "all_info = pd.read_csv(full_path,sep=\";\",header=None, names=[\"Year\",\"id\",\"Name\",\n",
    "    \"Time of analysis\", \"Indicator\", \"Grade\", \"Latitude of the center\",\n",
    "    \"Longitude of the center\", \"Central pressure\", \"Maximum sustained wind speed\",\n",
    "    \"Direction and the longest radius of 50kt winds or greater\", \n",
    "    \"The shortest radius of 50kt winds or greater\",\n",
    "    \"Direction and the longest radius of 30kt winds or greater\",               \n",
    "    \"The shortest radius of 30kt winds or greater\", \"Indicator of landfall or passage\"])\n",
    "all_info.head(30400).tail(20)\n",
    "all_info.tail(20)\n",
    "#all_info.loc[all_info[\"Maximum sustained wind speed\"]>113].tail(500)"
   ]
  },
  {
   "cell_type": "markdown",
   "metadata": {},
   "source": [
    "Grade  \n",
    "1 : Not used  \n",
    "2 : Tropical Depression (TD)  \n",
    "3 : Tropical Storm (TS)  \n",
    "4 : Severe Tropical Storm (STS)  \n",
    "5 : Typhoon (TY)  \n",
    "6 : Extra-tropical Cyclone (L)  \n",
    "7 : Just entering into the responsible area of Japan Meteorological Agency (JMA)  \n",
    "8 : Not used  \n",
    "9 : Tropical Cyclone of TS intensity or higher (NE: looks like this was only used before 1977)"
   ]
  },
  {
   "cell_type": "markdown",
   "metadata": {},
   "source": [
    "Number of landfalls by year since 1991 (there is no landfall indecator for the years before 1991)"
   ]
  },
  {
   "cell_type": "code",
   "execution_count": null,
   "metadata": {},
   "outputs": [],
   "source": [
    "after_1991_and_before_2019 = all_info.loc[(all_info[\"Year\"] >= 1991) & (all_info[\"Year\"] < 2019)]"
   ]
  },
  {
   "cell_type": "code",
   "execution_count": null,
   "metadata": {},
   "outputs": [],
   "source": [
    "sustaine_wind_speed_treshold = 56 # in kt "
   ]
  },
  {
   "cell_type": "code",
   "execution_count": null,
   "metadata": {},
   "outputs": [],
   "source": [
    "landfall = after_1991_and_before_2019.loc[after_1991_and_before_2019[\"Indicator of landfall or passage\"] =='#']\n",
    "landfall_with_windspeed_above_threshold = landfall.loc[landfall['Maximum sustained wind speed'] >= sustaine_wind_speed_treshold]\n",
    "number_of_landfall_by_year = landfall_with_windspeed_above_threshold.groupby(by=['Year']).id.nunique()\n",
    "landfall.tail()\n",
    "number_of_landfall_by_year.plot(figsize=(10,5))\n",
    "number_of_landfall_by_year.mean()"
   ]
  },
  {
   "cell_type": "code",
   "execution_count": null,
   "metadata": {},
   "outputs": [],
   "source": [
    "number_of_landfall_by_year.to_csv(f'/Users/nicke/Dropbox/Sirius Niklas/Python/Japan/no_landfalls_wind_speed_ge_{sustaine_wind_speed_treshold}.csv',header=False)"
   ]
  },
  {
   "cell_type": "markdown",
   "metadata": {},
   "source": [
    "Number of storms with a wind speed greater or equal to sustaine_wind_speed_threshold since 1991"
   ]
  },
  {
   "cell_type": "code",
   "execution_count": null,
   "metadata": {},
   "outputs": [],
   "source": [
    "with_windspeed_above_threshold = after_1991_and_before_2019.loc[\n",
    "    after_1991_and_before_2019['Maximum sustained wind speed'] >= sustaine_wind_speed_treshold]\n",
    "number_by_year = with_windspeed_above_threshold.groupby(by=['Year']).id.nunique()\n",
    "number_by_year.plot(figsize=(10,5))\n",
    "number_by_year.mean()"
   ]
  },
  {
   "cell_type": "code",
   "execution_count": null,
   "metadata": {},
   "outputs": [],
   "source": [
    "before_2019 = all_info.loc[all_info[\"Year\"] < 2019]\n",
    "with_windspeed_above_threshold_all_years_before_2019 = before_2019.loc[\n",
    "    before_2019['Maximum sustained wind speed'] >= sustaine_wind_speed_treshold]\n",
    "groped_by_year = with_windspeed_above_threshold_all_years_before_2019.groupby(by=['Year']).id.nunique()\n",
    "groped_by_year.tail()"
   ]
  },
  {
   "cell_type": "code",
   "execution_count": null,
   "metadata": {},
   "outputs": [],
   "source": [
    "groped_by_year.hist()"
   ]
  },
  {
   "cell_type": "code",
   "execution_count": null,
   "metadata": {},
   "outputs": [],
   "source": [
    "groped_by_year.plot(figsize=(10,5))"
   ]
  },
  {
   "cell_type": "code",
   "execution_count": null,
   "metadata": {},
   "outputs": [],
   "source": []
  },
  {
   "cell_type": "code",
   "execution_count": null,
   "metadata": {},
   "outputs": [],
   "source": []
  }
 ],
 "metadata": {
  "kernelspec": {
   "display_name": "Python 3",
   "language": "python",
   "name": "python3"
  },
  "language_info": {
   "codemirror_mode": {
    "name": "ipython",
    "version": 3
   },
   "file_extension": ".py",
   "mimetype": "text/x-python",
   "name": "python",
   "nbconvert_exporter": "python",
   "pygments_lexer": "ipython3",
   "version": "3.7.2"
  }
 },
 "nbformat": 4,
 "nbformat_minor": 4
}
