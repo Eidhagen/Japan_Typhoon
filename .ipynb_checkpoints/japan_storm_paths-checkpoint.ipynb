{
 "cells": [
  {
   "cell_type": "code",
   "execution_count": null,
   "metadata": {},
   "outputs": [],
   "source": [
    "from bokeh.plotting import figure, show, output_file\n",
    "from bokeh.tile_providers import CARTODBPOSITRON\n",
    "from bokeh.io import output_notebook\n",
    "from bokeh.models import ColumnDataSource\n",
    "from bokeh.palettes import Spectral6\n",
    "from bokeh.transform import linear_cmap\n",
    "\n",
    "import math\n",
    "import pandas as pd\n",
    "import numpy as np\n",
    "\n",
    "\n",
    "output_notebook()"
   ]
  },
  {
   "cell_type": "code",
   "execution_count": null,
   "metadata": {},
   "outputs": [],
   "source": [
    "full_path = 'Japan storms all years.csv'\n",
    "tracks = pd.read_csv(full_path, sep=';')\n",
    "tracks = tracks[tracks['Time of analysis'] != 66666]\n",
    "print(tracks.head())\n",
    "#print(tracks.info())"
   ]
  },
  {
   "cell_type": "code",
   "execution_count": null,
   "metadata": {},
   "outputs": [],
   "source": [
    "def merc(lat, lon, unit=0.1):\n",
    "    lat =lat * 0.1\n",
    "    lon = lon * 0.1\n",
    "    r_major = 6378137.000\n",
    "    x = r_major * np.deg2rad(lon)\n",
    "    scale = x/lon\n",
    "    y = 180.0/math.pi * np.log(np.tan(math.pi/4.0 + \n",
    "        lat * (math.pi/180.0)/2.0)) * scale\n",
    "    return (x, y)\n",
    "\n",
    "scaled_lat,scaled_lon = merc(tracks.Lat.values, tracks.Lon.values)\n",
    "tracks['scaled_lat'] = scaled_lat\n",
    "tracks['scaled_lon'] = scaled_lon\n",
    "tracks['Max sustained wind speed km_per_h'] = tracks['Max sustained wind speed'] * 1.852"
   ]
  },
  {
   "cell_type": "code",
   "execution_count": null,
   "metadata": {},
   "outputs": [],
   "source": [
    "TOOLTIPS = [\n",
    "    (\"Name\", \"@name\"),\n",
    "   # (\"(lat,lon)\", \"(@lat, @lon)\"),\n",
    "    (\"Central Pressure\", \"@pressure\"),\n",
    "    (\"Category\", \"@category\"),\n",
    "    #(\"Max sustained wind speed in knot\", \"@max_wind_speed\")\n",
    "    (\"Max sustained wind speed in km/h\", \"@max_wind_speed\")\n",
    "]\n",
    "p = figure(x_range=(14000000, 16000000), y_range=(1500000, 7000000),\n",
    "           x_axis_type=\"mercator\", y_axis_type=\"mercator\",tools='pan,hover,wheel_zoom',tooltips=TOOLTIPS)\n",
    "p.add_tile(CARTODBPOSITRON)"
   ]
  },
  {
   "cell_type": "code",
   "execution_count": null,
   "metadata": {},
   "outputs": [],
   "source": [
    "mapper = linear_cmap(field_name='category', palette=Spectral6, \n",
    "                         low=min(tracks['Grade'].values),\n",
    "                         high=max(tracks['Grade'].values))"
   ]
  },
  {
   "cell_type": "code",
   "execution_count": null,
   "metadata": {},
   "outputs": [],
   "source": [
    "paths = tracks.groupby('Name')\n",
    "print(paths.groups.keys())\n",
    "#print(paths.get_group('JEBI'))"
   ]
  },
  {
   "cell_type": "code",
   "execution_count": null,
   "metadata": {},
   "outputs": [],
   "source": [
    "#storms_to_plot = paths.groups.keys()\n",
    "storms_to_plot = ['JEBI_1821', 'TRAMI_1824', 'VERA_5915','SONGDA_418','MIREILLE_9119']"
   ]
  },
  {
   "cell_type": "code",
   "execution_count": null,
   "metadata": {},
   "outputs": [],
   "source": [
    "for storm in storms_to_plot:\n",
    "    path = paths.get_group(storm)\n",
    "    source = ColumnDataSource(\n",
    "        data=dict(lon=path.scaled_lon.values, lat=path.scaled_lat.values, pressure=path['Central Pressure'].values,\n",
    "                  name=path.Name.values, category=path.Grade.values, max_wind_speed=path['Max sustained wind speed km_per_h'].values)\n",
    "    )\n",
    "\n",
    "    p.line(x=\"lat\", y=\"lon\", line_color=\"blue\", line_alpha=0.8, source=source)\n",
    "    p.circle(x=\"lat\", y=\"lon\", size=7, fill_color=mapper,color=mapper, fill_alpha=0.8, source=source)\n",
    "    #fill_color=\"blue\", size=\"category\"\n",
    "show(p)"
   ]
  },
  {
   "cell_type": "code",
   "execution_count": null,
   "metadata": {},
   "outputs": [],
   "source": []
  }
 ],
 "metadata": {
  "kernelspec": {
   "display_name": "Python 3",
   "language": "python",
   "name": "python3"
  },
  "language_info": {
   "codemirror_mode": {
    "name": "ipython",
    "version": 3
   },
   "file_extension": ".py",
   "mimetype": "text/x-python",
   "name": "python",
   "nbconvert_exporter": "python",
   "pygments_lexer": "ipython3",
   "version": "3.7.0"
  }
 },
 "nbformat": 4,
 "nbformat_minor": 2
}
